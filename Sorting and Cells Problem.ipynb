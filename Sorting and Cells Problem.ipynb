{
 "cells": [
  {
   "cell_type": "code",
   "execution_count": 4,
   "metadata": {},
   "outputs": [],
   "source": [
    "import string\n",
    "b=13\n",
    "h=7\n",
    "strs=\"2 2 4 5\""
   ]
  },
  {
   "cell_type": "code",
   "execution_count": 5,
   "metadata": {},
   "outputs": [
    {
     "name": "stdout",
     "output_type": "stream",
     "text": [
      "[2, 2, 4, 5]\n"
     ]
    }
   ],
   "source": [
    "strs=list(strs)\n",
    "d=[]\n",
    "for i in strs[0::2]:\n",
    "    d.append(int(i))\n",
    "print(d)"
   ]
  },
  {
   "cell_type": "code",
   "execution_count": 10,
   "metadata": {},
   "outputs": [
    {
     "data": {
      "text/plain": [
       "'45.500000'"
      ]
     },
     "execution_count": 10,
     "metadata": {},
     "output_type": "execute_result"
    }
   ],
   "source": [
    "ar=0.5*b*h\n",
    "(\"{:f}\".format(ar))\n"
   ]
  },
  {
   "cell_type": "code",
   "execution_count": null,
   "metadata": {},
   "outputs": [],
   "source": []
  },
  {
   "cell_type": "code",
   "execution_count": 52,
   "metadata": {},
   "outputs": [
    {
     "name": "stdout",
     "output_type": "stream",
     "text": [
      "Swap [8, 81, 1, 3]\n",
      "1 3 [1, 81, 8, 3]\n",
      "2 4 [1, 3, 8, 81]\n",
      "3 3 [1, 3, 8, 81]\n",
      "4 4 [1, 3, 8, 81]\n"
     ]
    }
   ],
   "source": [
    "#Selction Sort \n",
    "#TC O(n^2) SC=O(1)\n",
    "ar=[8,81,1,3]\n",
    "print(\"Swap\",format(str(ar)))\n",
    "for i in range(len(ar)):\n",
    "    mi=i\n",
    "    for j in range(i+1,len(ar)):\n",
    "        if ar[mi]>ar[j]:\n",
    "            mi=j\n",
    "    ar[mi],ar[i]=ar[i],ar[mi]\n",
    "    print(i+1,mi+1,ar)    "
   ]
  },
  {
   "cell_type": "code",
   "execution_count": 6,
   "metadata": {},
   "outputs": [
    {
     "name": "stdout",
     "output_type": "stream",
     "text": [
      "1 [1, 4, 3, 2, 5]\n",
      "2 [1, 3, 2, 4, 5]\n",
      "3 [1, 2, 3, 4, 5]\n"
     ]
    }
   ],
   "source": [
    "#Bubble Sort\n",
    "#WC:O(n^2) BC:O(n) SC:O(1)\n",
    "a=[1,5,4,3,2]\n",
    "for i in range(len(a)):\n",
    "    swap=False\n",
    "    for j in range(0,len(a)-1-i):\n",
    "        if a[j]>a[j+1]:\n",
    "            a[j],a[j+1]=a[j+1],a[j]\n",
    "            swap=True\n",
    "    if(swap==False):\n",
    "        break\n",
    "    print(i+1,a)"
   ]
  },
  {
   "cell_type": "code",
   "execution_count": 128,
   "metadata": {},
   "outputs": [
    {
     "name": "stdout",
     "output_type": "stream",
     "text": [
      "[3, 4, 2, 10, 12, 1] 3\n",
      "[2, 3, 4, 10, 12, 1] 2\n",
      "[2, 3, 4, 10, 12, 1] 10\n",
      "[2, 3, 4, 10, 12, 1] 12\n",
      "[1, 2, 3, 4, 10, 12] 1\n"
     ]
    }
   ],
   "source": [
    "#Insertion Sort\n",
    "#TC:O(n^2) SC=1\n",
    "a=[4,3,2,10,12,1]\n",
    "for i in range(1,len(a)):\n",
    "    key=a[i]\n",
    "    j=i-1\n",
    "    while j>-1 and key<a[j]:\n",
    "        a[j+1]=a[j]\n",
    "        j-=1\n",
    "    a[j+1]=key\n",
    "    print(a,key)"
   ]
  },
  {
   "cell_type": "code",
   "execution_count": 130,
   "metadata": {},
   "outputs": [
    {
     "data": {
      "text/plain": [
       "[1, 2, 3, 4, 10, 12]"
      ]
     },
     "execution_count": 130,
     "metadata": {},
     "output_type": "execute_result"
    }
   ],
   "source": [
    "a"
   ]
  },
  {
   "cell_type": "code",
   "execution_count": 8,
   "metadata": {},
   "outputs": [
    {
     "name": "stdout",
     "output_type": "stream",
     "text": [
      "Before [7, 4, 1, 3, 9, 20, 25, 6, 21, 14]\n",
      "Part.. [7, 4, 1, 3, 9, 6] 14 [20, 21, 25]\n",
      "After [7, 4, 1, 3, 9, 6, 14, 20, 21, 25]\n",
      "\n",
      "Before [7, 4, 1, 3, 9, 6]\n",
      "Part.. [4, 1, 3] 6 [9, 7]\n",
      "After [4, 1, 3, 6, 9, 7]\n",
      "\n",
      "Before [4, 1, 3]\n",
      "Part.. [1] 3 [4]\n",
      "After [1, 3, 4]\n",
      "\n",
      "Before [9, 7]\n",
      "Part.. [] 7 [9]\n",
      "After [7, 9]\n",
      "\n",
      "Before [20, 21, 25]\n",
      "Part.. [20, 21] 25 []\n",
      "After [20, 21, 25]\n",
      "\n",
      "Before [20, 21]\n",
      "Part.. [20] 21 []\n",
      "After [20, 21]\n",
      "\n"
     ]
    },
    {
     "data": {
      "text/plain": [
       "[1, 3, 4, 6, 7, 9, 14, 20, 21, 25]"
      ]
     },
     "execution_count": 8,
     "metadata": {},
     "output_type": "execute_result"
    }
   ],
   "source": [
    "a=[7, 4, 1, 3, 9, 20, 25, 6, 21, 14]\n",
    "low,high=0,len(a)-1\n",
    "def quicksort(low,high,a):\n",
    "    if(low<high):\n",
    "        pi=partition(low,high,a)\n",
    "        quicksort(low,pi-1,a)\n",
    "        quicksort(pi+1,high,a)\n",
    "        \n",
    "def partition(low,high,a):\n",
    "    pivot=a[high]\n",
    "    i=low-1\n",
    "    print('Before',a[low:high+1])\n",
    "    for j in range(low,high):\n",
    "        if(a[j]<pivot):\n",
    "            i+=1\n",
    "            a[i],a[j]=a[j],a[i]\n",
    "    a[i+1],a[high]=a[high],a[i+1]\n",
    "    print('Part..',a[low:i+1],a[i+1],a[i+2:high+1])\n",
    "    print('After',a[low:high+1])\n",
    "    print()\n",
    "    return i+1\n",
    "quicksort(low,high,a)\n",
    "a\n"
   ]
  },
  {
   "cell_type": "code",
   "execution_count": 257,
   "metadata": {},
   "outputs": [
    {
     "name": "stdout",
     "output_type": "stream",
     "text": [
      "[8, 5, 6, 7, 1, 1, 2, 3, 4, 5, 6, 7]\n",
      "mergeSort( [8, 5, 6, 7, 1, 1, 2, 3, 4, 5, 6, 7] ) Left [8, 5, 6, 7, 1, 1] Right [2, 3, 4, 5, 6, 7]\n",
      "mergeSort( [8, 5, 6, 7, 1, 1] ) Left [8, 5, 6] Right [7, 1, 1]\n",
      "mergeSort( [8, 5, 6] ) Left [8] Right [5, 6]\n",
      "mergeSort( [5, 6] ) Left [5] Right [6]\n",
      "\n",
      "[5, 6] [5] [6]\n",
      "Entering While\n",
      "[5, 6] 1 0 1 [5] [6]\n",
      "g [5, 6] 1 1 2 [5] [6]\n",
      "final [5, 6] [5] [6]\n",
      "\n",
      "\n",
      "[8, 5, 6] [8] [5, 6]\n",
      "Entering While\n",
      "[5, 5, 6] 0 1 1 [8] [5, 6]\n",
      "Entering While\n",
      "[5, 6, 6] 0 2 2 [8] [5, 6]\n",
      "f [5, 6, 8] 1 2 3 [8] [5, 6]\n",
      "final [5, 6, 8] [8] [5, 6]\n",
      "\n",
      "mergeSort( [7, 1, 1] ) Left [7] Right [1, 1]\n",
      "mergeSort( [1, 1] ) Left [1] Right [1]\n",
      "\n",
      "[1, 1] [1] [1]\n",
      "Entering While\n",
      "[1, 1] 0 1 1 [1] [1]\n",
      "f [1, 1] 1 1 2 [1] [1]\n",
      "final [1, 1] [1] [1]\n",
      "\n",
      "\n",
      "[7, 1, 1] [7] [1, 1]\n",
      "Entering While\n",
      "[1, 1, 1] 0 1 1 [7] [1, 1]\n",
      "Entering While\n",
      "[1, 1, 1] 0 2 2 [7] [1, 1]\n",
      "f [1, 1, 7] 1 2 3 [7] [1, 1]\n",
      "final [1, 1, 7] [7] [1, 1]\n",
      "\n",
      "\n",
      "[8, 5, 6, 7, 1, 1] [5, 6, 8] [1, 1, 7]\n",
      "Entering While\n",
      "[1, 5, 6, 7, 1, 1] 0 1 1 [5, 6, 8] [1, 1, 7]\n",
      "Entering While\n",
      "[1, 1, 6, 7, 1, 1] 0 2 2 [5, 6, 8] [1, 1, 7]\n",
      "Entering While\n",
      "[1, 1, 5, 7, 1, 1] 1 2 3 [5, 6, 8] [1, 1, 7]\n",
      "Entering While\n",
      "[1, 1, 5, 6, 1, 1] 2 2 4 [5, 6, 8] [1, 1, 7]\n",
      "Entering While\n",
      "[1, 1, 5, 6, 7, 1] 2 3 5 [5, 6, 8] [1, 1, 7]\n",
      "f [1, 1, 5, 6, 7, 8] 3 3 6 [5, 6, 8] [1, 1, 7]\n",
      "final [1, 1, 5, 6, 7, 8] [5, 6, 8] [1, 1, 7]\n",
      "\n",
      "mergeSort( [2, 3, 4, 5, 6, 7] ) Left [2, 3, 4] Right [5, 6, 7]\n",
      "mergeSort( [2, 3, 4] ) Left [2] Right [3, 4]\n",
      "mergeSort( [3, 4] ) Left [3] Right [4]\n",
      "\n",
      "[3, 4] [3] [4]\n",
      "Entering While\n",
      "[3, 4] 1 0 1 [3] [4]\n",
      "g [3, 4] 1 1 2 [3] [4]\n",
      "final [3, 4] [3] [4]\n",
      "\n",
      "\n",
      "[2, 3, 4] [2] [3, 4]\n",
      "Entering While\n",
      "[2, 3, 4] 1 0 1 [2] [3, 4]\n",
      "g [2, 3, 4] 1 1 2 [2] [3, 4]\n",
      "g [2, 3, 4] 1 2 3 [2] [3, 4]\n",
      "final [2, 3, 4] [2] [3, 4]\n",
      "\n",
      "mergeSort( [5, 6, 7] ) Left [5] Right [6, 7]\n",
      "mergeSort( [6, 7] ) Left [6] Right [7]\n",
      "\n",
      "[6, 7] [6] [7]\n",
      "Entering While\n",
      "[6, 7] 1 0 1 [6] [7]\n",
      "g [6, 7] 1 1 2 [6] [7]\n",
      "final [6, 7] [6] [7]\n",
      "\n",
      "\n",
      "[5, 6, 7] [5] [6, 7]\n",
      "Entering While\n",
      "[5, 6, 7] 1 0 1 [5] [6, 7]\n",
      "g [5, 6, 7] 1 1 2 [5] [6, 7]\n",
      "g [5, 6, 7] 1 2 3 [5] [6, 7]\n",
      "final [5, 6, 7] [5] [6, 7]\n",
      "\n",
      "\n",
      "[2, 3, 4, 5, 6, 7] [2, 3, 4] [5, 6, 7]\n",
      "Entering While\n",
      "[2, 3, 4, 5, 6, 7] 1 0 1 [2, 3, 4] [5, 6, 7]\n",
      "Entering While\n",
      "[2, 3, 4, 5, 6, 7] 2 0 2 [2, 3, 4] [5, 6, 7]\n",
      "Entering While\n",
      "[2, 3, 4, 5, 6, 7] 3 0 3 [2, 3, 4] [5, 6, 7]\n",
      "g [2, 3, 4, 5, 6, 7] 3 1 4 [2, 3, 4] [5, 6, 7]\n",
      "g [2, 3, 4, 5, 6, 7] 3 2 5 [2, 3, 4] [5, 6, 7]\n",
      "g [2, 3, 4, 5, 6, 7] 3 3 6 [2, 3, 4] [5, 6, 7]\n",
      "final [2, 3, 4, 5, 6, 7] [2, 3, 4] [5, 6, 7]\n",
      "\n",
      "\n",
      "[8, 5, 6, 7, 1, 1, 2, 3, 4, 5, 6, 7] [1, 1, 5, 6, 7, 8] [2, 3, 4, 5, 6, 7]\n",
      "Entering While\n",
      "[1, 5, 6, 7, 1, 1, 2, 3, 4, 5, 6, 7] 1 0 1 [1, 1, 5, 6, 7, 8] [2, 3, 4, 5, 6, 7]\n",
      "Entering While\n",
      "[1, 1, 6, 7, 1, 1, 2, 3, 4, 5, 6, 7] 2 0 2 [1, 1, 5, 6, 7, 8] [2, 3, 4, 5, 6, 7]\n",
      "Entering While\n",
      "[1, 1, 2, 7, 1, 1, 2, 3, 4, 5, 6, 7] 2 1 3 [1, 1, 5, 6, 7, 8] [2, 3, 4, 5, 6, 7]\n",
      "Entering While\n",
      "[1, 1, 2, 3, 1, 1, 2, 3, 4, 5, 6, 7] 2 2 4 [1, 1, 5, 6, 7, 8] [2, 3, 4, 5, 6, 7]\n",
      "Entering While\n",
      "[1, 1, 2, 3, 4, 1, 2, 3, 4, 5, 6, 7] 2 3 5 [1, 1, 5, 6, 7, 8] [2, 3, 4, 5, 6, 7]\n",
      "Entering While\n",
      "[1, 1, 2, 3, 4, 5, 2, 3, 4, 5, 6, 7] 2 4 6 [1, 1, 5, 6, 7, 8] [2, 3, 4, 5, 6, 7]\n",
      "Entering While\n",
      "[1, 1, 2, 3, 4, 5, 5, 3, 4, 5, 6, 7] 3 4 7 [1, 1, 5, 6, 7, 8] [2, 3, 4, 5, 6, 7]\n",
      "Entering While\n",
      "[1, 1, 2, 3, 4, 5, 5, 6, 4, 5, 6, 7] 3 5 8 [1, 1, 5, 6, 7, 8] [2, 3, 4, 5, 6, 7]\n",
      "Entering While\n",
      "[1, 1, 2, 3, 4, 5, 5, 6, 6, 5, 6, 7] 4 5 9 [1, 1, 5, 6, 7, 8] [2, 3, 4, 5, 6, 7]\n",
      "Entering While\n",
      "[1, 1, 2, 3, 4, 5, 5, 6, 6, 7, 6, 7] 4 6 10 [1, 1, 5, 6, 7, 8] [2, 3, 4, 5, 6, 7]\n",
      "f [1, 1, 2, 3, 4, 5, 5, 6, 6, 7, 7, 7] 5 6 11 [1, 1, 5, 6, 7, 8] [2, 3, 4, 5, 6, 7]\n",
      "f [1, 1, 2, 3, 4, 5, 5, 6, 6, 7, 7, 8] 6 6 12 [1, 1, 5, 6, 7, 8] [2, 3, 4, 5, 6, 7]\n",
      "final [1, 1, 2, 3, 4, 5, 5, 6, 6, 7, 7, 8] [1, 1, 5, 6, 7, 8] [2, 3, 4, 5, 6, 7]\n",
      "\n"
     ]
    },
    {
     "data": {
      "text/plain": [
       "[1, 1, 2, 3, 4, 5, 5, 6, 6, 7, 7, 8]"
      ]
     },
     "execution_count": 257,
     "metadata": {},
     "output_type": "execute_result"
    }
   ],
   "source": [
    "a=[8,5,6,7,1,1, 2, 3, 4, 5, 6, 7]\n",
    "print(a)\n",
    "def mergeSort(a):\n",
    "    if(len(a)>1):\n",
    "        mid=len(a)//2\n",
    "        L=a[:mid]\n",
    "        R=a[mid:]\n",
    "        print('mergeSort(',a,') Left',L,'Right',R)\n",
    "        mergeSort(L)\n",
    "        mergeSort(R)\n",
    "        i=j=k=0\n",
    "        print()\n",
    "        print(a,L,R)\n",
    "        while i<len(L) and j<len(R):\n",
    "            print('Entering While')\n",
    "            if(j==len(R) or L[i]<R[j]):\n",
    "                a[k]=L[i]\n",
    "                i+=1\n",
    "                \n",
    "            else:\n",
    "                a[k]=R[j]\n",
    "                j+=1\n",
    "            k+=1\n",
    "            print(a,i,j,k,L,R)\n",
    "        while i<len(L):\n",
    "            a[k]=L[i]\n",
    "            i+=1\n",
    "            k+=1\n",
    "            print('f',a,i,j,k,L,R)\n",
    "        while j<len(R):\n",
    "            a[k]=R[j]\n",
    "            j+=1\n",
    "            k+=1\n",
    "            print('g',a,i,j,k,L,R)\n",
    "        print('final',a,L,R,end='\\n\\n')\n",
    "        \n",
    "\n",
    "\n",
    "mergeSort(a)\n",
    "a"
   ]
  },
  {
   "cell_type": "code",
   "execution_count": 12,
   "metadata": {},
   "outputs": [
    {
     "name": "stdout",
     "output_type": "stream",
     "text": [
      "============================================== 4 ddd\n",
      "left= 9 right= 10 largest= 4 [3, 5, 4, 7, 6, 5, 5, 6]\n",
      "============================================== 3 ddd\n",
      "left= 7 right= 8 largest= 3 [3, 5, 4, 7, 6, 5, 5, 6]\n",
      "============================================== 2 ddd\n",
      "left= 5 right= 6 largest= 2 [3, 5, 4, 7, 6, 5, 5, 6]\n",
      "largest 5\n",
      "largest 5 [3, 5, 5, 7, 6, 4, 5, 6]\n",
      "left= 11 right= 12 largest= 5 [3, 5, 5, 7, 6, 4, 5, 6]\n",
      "============================================== 1 ddd\n",
      "left= 3 right= 4 largest= 1 [3, 5, 5, 7, 6, 4, 5, 6]\n",
      "largest 3\n",
      "largest 3 [3, 7, 5, 5, 6, 4, 5, 6]\n",
      "left= 7 right= 8 largest= 3 [3, 7, 5, 5, 6, 4, 5, 6]\n",
      "largest 7\n",
      "largest 7 [3, 7, 5, 6, 6, 4, 5, 5]\n",
      "left= 15 right= 16 largest= 7 [3, 7, 5, 6, 6, 4, 5, 5]\n",
      "============================================== 0 ddd\n",
      "left= 1 right= 2 largest= 0 [3, 7, 5, 6, 6, 4, 5, 5]\n",
      "largest 1\n",
      "largest 1 [7, 3, 5, 6, 6, 4, 5, 5]\n",
      "left= 3 right= 4 largest= 1 [7, 3, 5, 6, 6, 4, 5, 5]\n",
      "largest 3\n",
      "largest 3 [7, 6, 5, 3, 6, 4, 5, 5]\n",
      "left= 7 right= 8 largest= 3 [7, 6, 5, 3, 6, 4, 5, 5]\n",
      "largest 7\n",
      "largest 7 [7, 6, 5, 5, 6, 4, 5, 3]\n",
      "left= 15 right= 16 largest= 7 [7, 6, 5, 5, 6, 4, 5, 3]\n",
      "\n",
      "============================================== 7 ddd\n",
      "left= 1 right= 2 largest= 0 [3, 6, 5, 5, 6, 4, 5, 7]\n",
      "largest 1\n",
      "largest 1 [6, 3, 5, 5, 6, 4, 5, 7]\n",
      "left= 3 right= 4 largest= 1 [6, 3, 5, 5, 6, 4, 5, 7]\n",
      "largest 3\n",
      "largest 4\n",
      "largest 4 [6, 6, 5, 5, 3, 4, 5, 7]\n",
      "left= 9 right= 10 largest= 4 [6, 6, 5, 5, 3, 4, 5, 7]\n",
      "============================================== 6 ddd\n",
      "left= 1 right= 2 largest= 0 [5, 6, 5, 5, 3, 4, 6, 7]\n",
      "largest 1\n",
      "largest 1 [6, 5, 5, 5, 3, 4, 6, 7]\n",
      "left= 3 right= 4 largest= 1 [6, 5, 5, 5, 3, 4, 6, 7]\n",
      "============================================== 5 ddd\n",
      "left= 1 right= 2 largest= 0 [4, 5, 5, 5, 3, 6, 6, 7]\n",
      "largest 1\n",
      "largest 1 [5, 4, 5, 5, 3, 6, 6, 7]\n",
      "left= 3 right= 4 largest= 1 [5, 4, 5, 5, 3, 6, 6, 7]\n",
      "largest 3\n",
      "largest 3 [5, 5, 5, 4, 3, 6, 6, 7]\n",
      "left= 7 right= 8 largest= 3 [5, 5, 5, 4, 3, 6, 6, 7]\n",
      "============================================== 4 ddd\n",
      "left= 1 right= 2 largest= 0 [3, 5, 5, 4, 5, 6, 6, 7]\n",
      "largest 1\n",
      "largest 1 [5, 3, 5, 4, 5, 6, 6, 7]\n",
      "left= 3 right= 4 largest= 1 [5, 3, 5, 4, 5, 6, 6, 7]\n",
      "largest 3\n",
      "largest 3 [5, 4, 5, 3, 5, 6, 6, 7]\n",
      "left= 7 right= 8 largest= 3 [5, 4, 5, 3, 5, 6, 6, 7]\n",
      "============================================== 3 ddd\n",
      "left= 1 right= 2 largest= 0 [3, 4, 5, 5, 5, 6, 6, 7]\n",
      "largest 1\n",
      "largest 2\n",
      "largest 2 [5, 4, 3, 5, 5, 6, 6, 7]\n",
      "left= 5 right= 6 largest= 2 [5, 4, 3, 5, 5, 6, 6, 7]\n",
      "============================================== 2 ddd\n",
      "left= 1 right= 2 largest= 0 [3, 4, 5, 5, 5, 6, 6, 7]\n",
      "largest 1\n",
      "largest 1 [4, 3, 5, 5, 5, 6, 6, 7]\n",
      "left= 3 right= 4 largest= 1 [4, 3, 5, 5, 5, 6, 6, 7]\n",
      "============================================== 1 ddd\n",
      "left= 1 right= 2 largest= 0 [3, 4, 5, 5, 5, 6, 6, 7]\n"
     ]
    }
   ],
   "source": [
    "a=[3,5,4,7,6,5, 5, 6]\n",
    "\n",
    "def heapify(a,n,i):\n",
    "    largest=i\n",
    "    l=2*i+1\n",
    "    r=2*i+2\n",
    "    print('left=',l,'right=',r,'largest=',largest,a)\n",
    "    if l<n and a[i]<a[l]:\n",
    "        largest=l\n",
    "        print('largest',largest)\n",
    "    if r<n and a[largest]<a[r]:\n",
    "        largest=r\n",
    "        print('largest',largest)\n",
    "    if largest!=i:\n",
    "        a[i],a[largest]=a[largest],a[i]\n",
    "        print('largest',largest,a)\n",
    "        heapify(a,n,largest)\n",
    "    \n",
    "    \n",
    "\n",
    "def heapSort(a):\n",
    "    n=len(a)\n",
    "    for i in range(n//2,-1,-1):\n",
    "        print('==============================================',i,\"ddd\")\n",
    "        heapify(a,n,i)\n",
    "    print()\n",
    "    for i in range(n-1,0,-1):\n",
    "        a[i],a[0]=a[0],a[i]\n",
    "        print('==============================================',i,\"ddd\")\n",
    "        heapify(a,i,0)\n",
    "heapSort(a)\n",
    "    \n",
    "    "
   ]
  },
  {
   "cell_type": "code",
   "execution_count": 323,
   "metadata": {},
   "outputs": [
    {
     "data": {
      "text/plain": [
       "[7, 6, 4, 5, 3]"
      ]
     },
     "execution_count": 323,
     "metadata": {},
     "output_type": "execute_result"
    }
   ],
   "source": [
    "a\n"
   ]
  },
  {
   "cell_type": "code",
   "execution_count": 10,
   "metadata": {},
   "outputs": [
    {
     "name": "stdout",
     "output_type": "stream",
     "text": [
      "1\n",
      "7\n",
      "1 1 2 2 4 2 6\n"
     ]
    }
   ],
   "source": [
    "def main():\n",
    "    n=int(input())\n",
    "    k=int(input())\n",
    "    c=1\n",
    "    val=-1\n",
    "    s=0\n",
    "    for i in range(0,k+1):\n",
    "        if(i==0):\n",
    "            continue\n",
    "\n",
    "        if(c==val):\n",
    "            val=0\n",
    "            c+=1\n",
    "        if(i%2==0):\n",
    "            if(i!=k):\n",
    "                print(c,end=\" \")\n",
    "            else:\n",
    "                print(c)\n",
    "                return\n",
    "        else:\n",
    "            #print(c,s)\n",
    "            s=c+s\n",
    "            val+=1\n",
    "            if(i!=k):\n",
    "                print(s,end=\" \")\n",
    "            else:\n",
    "                print(s)\n",
    "                return\n",
    "\n",
    "        \n",
    "        \n",
    "\n",
    "\n",
    "\n",
    "    \n",
    "\n",
    " # Write code here \n",
    "\n",
    "main()\n"
   ]
  },
  {
   "cell_type": "code",
   "execution_count": 18,
   "metadata": {},
   "outputs": [
    {
     "name": "stdout",
     "output_type": "stream",
     "text": [
      "10\n",
      "1 1 2 2 4 2 6 3 9 3 12 3 15 4 19 4 23 4 27 4 31 5\n"
     ]
    }
   ],
   "source": [
    "#Anyway for the guys who are wondering how to solve this. Here is my code ''' Read inputSTDIN. Print your output to STDOUT ''' #Use input() to read inputSTDIN and use print to write your output to STDOUT\n",
    "def main(): \n",
    "    n = int(input()) \n",
    "    a = 1 \n",
    "    t = 1 \n",
    "    c = 1 \n",
    "    i = 1 \n",
    "    if (n > 0): \n",
    "        print(\"1\", end = \" \") \n",
    "        while i < n - 2: \n",
    "            print(t, a + t, end = \" \") \n",
    "            c -= 1 \n",
    "            a += t \n",
    "            if c == 0: \n",
    "                t += 1 \n",
    "                c = t \n",
    "                i += 2 \n",
    "            if n - i == 2: \n",
    "                print(t, a + t) \n",
    "            elif n - i == 1: \n",
    "                print(t) # Write code here for z in range(int(input())): \n",
    "main()"
   ]
  },
  {
   "cell_type": "code",
   "execution_count": 14,
   "metadata": {},
   "outputs": [],
   "source": [
    "def int_to_Roman( num):\n",
    "        val = [\n",
    "            1000, 900, 500, 400,\n",
    "            100, 90, 50, 40,\n",
    "            10, 9, 5, 4,\n",
    "            1\n",
    "            ]\n",
    "        syb = [\n",
    "            \"M\", \"CM\", \"D\", \"CD\",\n",
    "            \"C\", \"XC\", \"L\", \"XL\",\n",
    "            \"X\", \"IX\", \"V\", \"IV\",\n",
    "            \"I\"\n",
    "            ]\n",
    "        roman_num = ''\n",
    "        i = 0\n",
    "        while  num > 0:\n",
    "            #print(i)\n",
    "            for m in range(num // val[i]):\n",
    "                print(val[i])\n",
    "                #print(num//val[i])\n",
    "                roman_num += syb[i]\n",
    "                num -= val[i]\n",
    "            i += 1\n",
    "        return roman_num"
   ]
  },
  {
   "cell_type": "code",
   "execution_count": 17,
   "metadata": {},
   "outputs": [
    {
     "name": "stdout",
     "output_type": "stream",
     "text": [
      "50\n",
      "10\n",
      "10\n",
      "1\n"
     ]
    },
    {
     "data": {
      "text/plain": [
       "'LXXI'"
      ]
     },
     "execution_count": 17,
     "metadata": {},
     "output_type": "execute_result"
    }
   ],
   "source": [
    "int_to_Roman(int(71))"
   ]
  },
  {
   "cell_type": "raw",
   "metadata": {},
   "source": [
    "# TESTCASES 1:\n",
    "INPUT:\n",
    "[1,0,0,0,0,1,0,0],1\n",
    "EXPECTED RETURN VALUE:\n",
    "[0,1,0,0,1,0,1,0]\n",
    "TESTCASE 2:\n",
    "INPUT:\n",
    "[1,1,1,0,1,1,1,1,],2\n",
    "EXPECTED RETURN VALUE:\n",
    "[0,0,0,0,0,1,1,0]"
   ]
  },
  {
   "cell_type": "code",
   "execution_count": 15,
   "metadata": {},
   "outputs": [
    {
     "name": "stdout",
     "output_type": "stream",
     "text": [
      "[1, 0, 1, 0, 1, 0, 0, 1] [1, 0, 1, 0, 1, 0, 0, 1, 0]\n",
      "[0, 0, 0, 0, 0, 1, 1, 0] [0, 0, 0, 0, 0, 1, 1, 0, 0]\n",
      "[0, 0, 0, 0, 1, 1, 1, 1] [0, 0, 0, 0, 1, 1, 1, 1, 0]\n",
      "[0, 0, 0, 1, 1, 0, 0, 1] [0, 0, 0, 1, 1, 0, 0, 1, 0]\n",
      "[0, 0, 1, 1, 1, 1, 1, 0] [0, 0, 1, 1, 1, 1, 1, 0, 0]\n",
      "[0, 1, 1, 0, 0, 0, 1, 1] [0, 1, 1, 0, 0, 0, 1, 1, 0]\n",
      "[1, 1, 1, 1, 0, 1, 1, 1] [1, 1, 1, 1, 0, 1, 1, 1, 0]\n",
      "[1, 0, 0, 1, 0, 1, 0, 1] [1, 0, 0, 1, 0, 1, 0, 1, 0]\n",
      "[0, 1, 1, 0, 0, 0, 0, 0] [0, 1, 1, 0, 0, 0, 0, 0, 0]\n",
      "[1, 1, 1, 1, 0, 0, 0, 0] [1, 1, 1, 1, 0, 0, 0, 0, 0]\n",
      "4\n"
     ]
    }
   ],
   "source": [
    "k=10\n",
    "c=[1,1,1,0,1,1,1,1]\n",
    "t=[0]*(len(c)+1)\n",
    "n=len(c)\n",
    "for i in range(0,len(c)):\n",
    "    t[i]=c[i]\n",
    "while(k>0):\n",
    "    t[0]=0^c[1]\n",
    "    t[n-1]=0^c[n-2]\n",
    "    for i in range(1,n-1):\n",
    "        t[i]=c[i-1]^c[i+1]\n",
    "    for i in range(0,n):\n",
    "        c[i]=t[i]\n",
    "    print(c,t)\n",
    "    k-=1\n",
    "print(sum(c))"
   ]
  },
  {
   "cell_type": "code",
   "execution_count": 12,
   "metadata": {},
   "outputs": [
    {
     "data": {
      "text/plain": [
       "0"
      ]
     },
     "execution_count": 12,
     "metadata": {},
     "output_type": "execute_result"
    }
   ],
   "source": [
    "\n"
   ]
  },
  {
   "cell_type": "code",
   "execution_count": null,
   "metadata": {},
   "outputs": [],
   "source": []
  }
 ],
 "metadata": {
  "kernelspec": {
   "display_name": "Python 3",
   "language": "python",
   "name": "python3"
  },
  "language_info": {
   "codemirror_mode": {
    "name": "ipython",
    "version": 3
   },
   "file_extension": ".py",
   "mimetype": "text/x-python",
   "name": "python",
   "nbconvert_exporter": "python",
   "pygments_lexer": "ipython3",
   "version": "3.7.1"
  }
 },
 "nbformat": 4,
 "nbformat_minor": 2
}
