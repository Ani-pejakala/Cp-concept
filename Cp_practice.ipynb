{
 "cells": [
  {
   "cell_type": "code",
   "execution_count": null,
   "metadata": {},
   "outputs": [],
   "source": [
    "import math\n",
    "c=0\n",
    "for i in range(1,896):\n",
    "    for j in range(1,int(math.log(i))):\n",
    "        c+=1\n",
    "print(c)\n",
    "        "
   ]
  },
  {
   "cell_type": "code",
   "execution_count": null,
   "metadata": {},
   "outputs": [],
   "source": [
    "i,j=0,1\n",
    "n=100\n",
    "\n",
    "c=1\n",
    "while(i<n):\n",
    "    i=i+j\n",
    "    print(i,j)\n",
    "    j+=1\n",
    "    c+=1"
   ]
  },
  {
   "cell_type": "code",
   "execution_count": 57,
   "metadata": {},
   "outputs": [
    {
     "data": {
      "text/plain": [
       "90"
      ]
     },
     "execution_count": 57,
     "metadata": {},
     "output_type": "execute_result"
    }
   ],
   "source": [
    "def findLoot(a,n):\n",
    "    if n==0:\n",
    "        return 0\n",
    "    elif n==1:\n",
    "        return a[0]\n",
    "    elif n==2:\n",
    "        return max(a[0],a[1])\n",
    "    i=2\n",
    "    v1=a[0]\n",
    "    v2=max(a[0],a[1])\n",
    "    while(i<n):\n",
    "        best_loot=max(a[i]+v1,v2)\n",
    "        v1=v2\n",
    "        v2=best_loot\n",
    "        i+=1\n",
    "    return best_loot\n",
    "#O(n) and space O(1)\n",
    "#a=[10,7,12,44,30,25]\n",
    "a=[45,5,6,10,25,35]\n",
    "n=len(a)\n",
    "findLoot(a,n)"
   ]
  },
  {
   "cell_type": "code",
   "execution_count": null,
   "metadata": {},
   "outputs": [],
   "source": []
  },
  {
   "cell_type": "code",
   "execution_count": 15,
   "metadata": {},
   "outputs": [
    {
     "name": "stdout",
     "output_type": "stream",
     "text": [
      "3 7 8\n",
      "0 8 10\n",
      "0 11 20\n",
      "24 0 25\n"
     ]
    },
    {
     "data": {
      "text/plain": [
       "113"
      ]
     },
     "execution_count": 15,
     "metadata": {},
     "output_type": "execute_result"
    }
   ],
   "source": [
    "def findpath(a,b,n,m):\n",
    "    s1,s2,i,j=0,0,0,0\n",
    "    res=0\n",
    "    while(i<n and j<m):\n",
    "        if(a[i]<b[j]):\n",
    "            s1+=a[i]\n",
    "            i+=1\n",
    "        elif(a[i]>b[j]):\n",
    "            s2+=b[j]\n",
    "            j+=1\n",
    "        else:\n",
    "            print(s1,s2,a[i])\n",
    "            res+=max(s1,s2)\n",
    "            s1,s2=0,0\n",
    "            while(i<n and j<m and a[i]==b[j]):\n",
    "                res+=a[i]\n",
    "                i+=1\n",
    "                j+=1\n",
    "    while(i<n):\n",
    "        s1+=a[i]\n",
    "        i+=1\n",
    "    while(j<m):\n",
    "        s2+=b[j]\n",
    "        j+=1\n",
    "    res+=max(s1,s2)\n",
    "    return res\n",
    "a=[1,2,8,10,20,24,25]\n",
    "b=[7,8,8,10,11,20,25]\n",
    "findpath(a,b,len(a),len(b))"
   ]
  },
  {
   "cell_type": "code",
   "execution_count": 13,
   "metadata": {},
   "outputs": [
    {
     "name": "stdout",
     "output_type": "stream",
     "text": [
      "[[1, 1, 0, 0, 0], [0, 1, 0, 0, 1], [1, 0, 0, 1, 1], [0, 0, 1, 0, 0], [1, 1, 1, 0, 1]]\n",
      "4\n",
      "[[0, 0, 0, 0, 0], [0, 0, 0, 0, 1], [0, 0, 0, 1, 1], [0, 0, 1, 0, 0], [1, 1, 1, 0, 1]]\n",
      "7\n",
      "[[0, 0, 0, 0, 0], [0, 0, 0, 0, 0], [0, 0, 0, 0, 0], [0, 0, 0, 0, 0], [0, 0, 0, 0, 1]]\n",
      "1\n",
      "3\n"
     ]
    }
   ],
   "source": [
    "#Moves In 8 Direction\n",
    "def getRegionSize(row,col,matrix):\n",
    "    #print(row,col)\n",
    "    if(row<0 or col < 0 or row>=len(matrix) or col>=len(matrix[0])):\n",
    "        return 0\n",
    "    if(matrix[row][col]==0):\n",
    "        return 0\n",
    "    size=1\n",
    "    matrix[row][col]=0\n",
    "    for r in range(row-1,row+2):\n",
    "        for c in range(col-1,col+2):\n",
    "            #print(r,c)\n",
    "            if(r!=row or c!=col):\n",
    "                #print(\"ani\")\n",
    "                size+=getRegionSize(r,c,matrix)\n",
    "                #print(matrix)\n",
    "                \n",
    "                \n",
    "    return size\n",
    "def getBiggerRegion(matrix):\n",
    "    visited = [[False for j in range(len(matrix))]for i in range(len(matrix[0]))]\n",
    "    maxRegion = 0\n",
    "    for row in range(0,len(matrix)):\n",
    "        for col in range(0,len(matrix[0])):\n",
    "            if(matrix[row][col]==1):\n",
    "                print(matrix)\n",
    "                size=getRegionSize(row,col,matrix)\n",
    "                print(size)\n",
    "                maxRegion+=1\n",
    "                \n",
    "    return maxRegion\n",
    "matrix =[[1, 1, 0, 0, 0], \n",
    "        [0, 1, 0, 0, 1], \n",
    "        [1, 0, 0, 1, 1], \n",
    "        [0, 0, 1, 0, 0], \n",
    "        [1, 1, 1, 0, 1]]  \n",
    "  \n",
    "print(getBiggerRegion(matrix))"
   ]
  },
  {
   "cell_type": "code",
   "execution_count": 12,
   "metadata": {},
   "outputs": [
    {
     "name": "stdout",
     "output_type": "stream",
     "text": [
      "[[1, 1, 0, 0, 0], [0, 1, 0, 0, 1], [1, 0, 0, 1, 1], [0, 0, 1, 0, 0], [1, 1, 1, 0, 1]]\n",
      "3\n",
      "[[0, 0, 0, 0, 0], [0, 0, 0, 0, 1], [1, 0, 0, 1, 1], [0, 0, 1, 0, 0], [1, 1, 1, 0, 1]]\n",
      "3\n",
      "[[0, 0, 0, 0, 0], [0, 0, 0, 0, 0], [1, 0, 0, 0, 0], [0, 0, 1, 0, 0], [1, 1, 1, 0, 1]]\n",
      "1\n",
      "[[0, 0, 0, 0, 0], [0, 0, 0, 0, 0], [0, 0, 0, 0, 0], [0, 0, 1, 0, 0], [1, 1, 1, 0, 1]]\n",
      "4\n",
      "[[0, 0, 0, 0, 0], [0, 0, 0, 0, 0], [0, 0, 0, 0, 0], [0, 0, 0, 0, 0], [0, 0, 0, 0, 1]]\n",
      "1\n",
      "5\n"
     ]
    }
   ],
   "source": [
    "#Moves in 4 direction\n",
    "def getRegionSize(row,col,matrix):\n",
    "    #print(row,col)\n",
    "    if(row<0 or col < 0 or row>=len(matrix) or col>=len(matrix[0])):\n",
    "        return 0\n",
    "    if(matrix[row][col]==0):\n",
    "        return 0\n",
    "    size=1\n",
    "    matrix[row][col]=0\n",
    "    pn=[[-1,0],[0,-1],[1,0],[0,1]]\n",
    "    #for r in range(row-1,row+2):\n",
    "        #for c in range(col-1,col+2):\n",
    "            #print(r,c)\n",
    "    for i in range(0,len(pn)):\n",
    "            #if(r!=row or c!=col):\n",
    "                #print(\"ani\")\n",
    "        if(pn[i][0]!=row or pn[i][1]!=col):\n",
    "            size+=getRegionSize(row+pn[i][0],col+pn[i][1],matrix)\n",
    "                #print(matrix)\n",
    "                \n",
    "                \n",
    "    return size\n",
    "def getBiggerRegion(matrix):\n",
    "    visited = [[False for j in range(len(matrix))]for i in range(len(matrix[0]))]\n",
    "    maxRegion = 0\n",
    "    for row in range(0,len(matrix)):\n",
    "        for col in range(0,len(matrix[0])):\n",
    "            if(matrix[row][col]==1):\n",
    "                print(matrix)\n",
    "                size=getRegionSize(row,col,matrix)\n",
    "                print(size)\n",
    "                maxRegion+=1\n",
    "                \n",
    "    return maxRegion\n",
    "matrix =[[1, 1, 0, 0, 0], \n",
    "        [0, 1, 0, 0, 1], \n",
    "        [1, 0, 0, 1, 1], \n",
    "        [0, 0, 1, 0, 0], \n",
    "        [1, 1, 1, 0, 1]]  \n",
    "  \n",
    "print(getBiggerRegion(matrix))"
   ]
  },
  {
   "cell_type": "code",
   "execution_count": 107,
   "metadata": {},
   "outputs": [],
   "source": [
    "s=\"Here is HashedIn Technologies\"\n",
    "w=\"neron\"\n",
    "d={}\n",
    "wd={}\n",
    "s=s.lower()\n",
    "w=w.lower()\n",
    "for i in s:\n",
    "    if i!=\" \":\n",
    "        if i in d:\n",
    "            d[i]+=1\n",
    "        else:\n",
    "            d[i]=1\n",
    "for i in w:\n",
    "    if i in wd:\n",
    "        wd[i]+=1\n",
    "    else:\n",
    "        wd[i]=1\n",
    "        \n",
    "    "
   ]
  },
  {
   "cell_type": "code",
   "execution_count": 141,
   "metadata": {},
   "outputs": [
    {
     "name": "stdout",
     "output_type": "stream",
     "text": [
      "{'h': 4, 'e': 5, 'r': 1, 'i': 3, 's': 3, 'a': 1, 'd': 1, 'n': 2, 't': 1, 'c': 1, 'o': 2, 'l': 1, 'g': 1} {'n': 2, 'e': 1, 'r': 1, 'o': 1}\n",
      "1\n",
      "5\n",
      "1\n",
      "2\n"
     ]
    },
    {
     "data": {
      "text/plain": [
       "1"
      ]
     },
     "execution_count": 141,
     "metadata": {},
     "output_type": "execute_result"
    }
   ],
   "source": [
    "print(d,wd)\n",
    "res=999999\n",
    "for i in wd:\n",
    "    if i in d and d[i]>=wd[i]:\n",
    "        print(d[i]//wd[i])\n",
    "        res=min(res,d[i]//wd[i])\n",
    "    else:\n",
    "        res=0\n",
    "        break\n",
    "res"
   ]
  },
  {
   "cell_type": "code",
   "execution_count": 58,
   "metadata": {},
   "outputs": [
    {
     "name": "stdout",
     "output_type": "stream",
     "text": [
      "0 0 [[1, 0, 0, 0], [0, 0, 0, 0], [0, 0, 0, 0], [0, 0, 0, 0]] Moved right\n",
      "0 1 [[1, 1, 0, 0], [0, 0, 0, 0], [0, 0, 0, 0], [0, 0, 0, 0]] Moved right\n",
      "0 2 [[1, 1, 1, 0], [0, 0, 0, 0], [0, 0, 0, 0], [0, 0, 0, 0]] Moved right\n",
      "0 3 [[1, 1, 1, 0], [0, 0, 0, 0], [0, 0, 0, 0], [0, 0, 0, 0]] Not Possible\n",
      "0 2 [[1, 1, 1, 0], [0, 0, 0, 0], [0, 0, 0, 0], [0, 0, 0, 0]] Moved Down\n",
      "1 2 [[1, 1, 1, 0], [0, 0, 0, 0], [0, 0, 0, 0], [0, 0, 0, 0]] Not Possible\n",
      "0 2 [[1, 1, 0, 0], [0, 0, 0, 0], [0, 0, 0, 0], [0, 0, 0, 0]] Making zero\n",
      "0 1 [[1, 1, 0, 0], [0, 0, 0, 0], [0, 0, 0, 0], [0, 0, 0, 0]] Moved Down\n",
      "1 1 [[1, 1, 0, 0], [0, 1, 0, 0], [0, 0, 0, 0], [0, 0, 0, 0]] Moved right\n",
      "1 2 [[1, 1, 0, 0], [0, 1, 0, 0], [0, 0, 0, 0], [0, 0, 0, 0]] Not Possible\n",
      "1 1 [[1, 1, 0, 0], [0, 1, 0, 0], [0, 0, 0, 0], [0, 0, 0, 0]] Moved Down\n",
      "2 1 [[1, 1, 0, 0], [0, 1, 0, 0], [0, 1, 0, 0], [0, 0, 0, 0]] Moved right\n",
      "2 2 [[1, 1, 0, 0], [0, 1, 0, 0], [0, 1, 0, 0], [0, 0, 0, 0]] Not Possible\n",
      "2 1 [[1, 1, 0, 0], [0, 1, 0, 0], [0, 1, 0, 0], [0, 0, 0, 0]] Moved Down\n",
      "3 1 [[1, 1, 0, 0], [0, 1, 0, 0], [0, 1, 0, 0], [0, 1, 0, 0]] Moved right\n",
      "3 2 [[1, 1, 0, 0], [0, 1, 0, 0], [0, 1, 0, 0], [0, 1, 1, 0]] Moved right\n",
      "3 3 [[1, 1, 0, 0], [0, 1, 0, 0], [0, 1, 0, 0], [0, 1, 1, 1]] Winner Winner\n",
      "[1, 1, 1, 0]\n",
      "[0, 1, 0, 1]\n",
      "[1, 1, 0, 0]\n",
      "[1, 1, 1, 1]\n",
      "\n",
      "Sol\n",
      "[1, 1, 0, 0]\n",
      "[0, 1, 0, 0]\n",
      "[0, 1, 0, 0]\n",
      "[0, 1, 1, 1]\n"
     ]
    }
   ],
   "source": [
    "maze=[[1,1,1,0],\n",
    "      [0,1,0,1],\n",
    "      [1,1,0,0],\n",
    "      [1,1,1,1]]\n",
    "def solveMazeUtil(row,col,maze,sol):\n",
    "    if(row<0 or col<0 or row>=len(maze) or col>=len(maze[0]) or maze[row][col]==0):\n",
    "        print(row,col,sol,\"Not Possible\")\n",
    "        return False\n",
    "    if row==len(maze)-1 and col==len(maze[0])-1:\n",
    "        sol[row][col]=1\n",
    "        print(row,col,sol,\"Winner Winner\")\n",
    "        return True\n",
    "    sol[row][col]=1\n",
    "    print(row,col,sol,\"Moved right\")\n",
    "    if(solveMazeUtil(row,col+1,maze,sol)):\n",
    "        return True\n",
    "    print(row,col,sol,\"Moved Down\")\n",
    "    if(solveMazeUtil(row+1,col,maze,sol)):\n",
    "        return True\n",
    "    sol[row][col]=0\n",
    "    print(row,col,sol,\"Making zero\")\n",
    "    return False\n",
    "    \n",
    "    \n",
    "def solveMaze(maze):\n",
    "    sol=[[0 for i in range(0,len(maze[0]))] for j in range(0,len(maze)) ]\n",
    "    if not solveMazeUtil(0,0,maze,sol):\n",
    "        print(\"No Sol\")\n",
    "        return 0\n",
    "    for i in maze:\n",
    "        print(i)\n",
    "    print(\"\\nSol\")\n",
    "    for i in sol:\n",
    "        print(i)\n",
    "solveMaze(maze)\n"
   ]
  },
  {
   "cell_type": "code",
   "execution_count": 211,
   "metadata": {},
   "outputs": [
    {
     "name": "stdout",
     "output_type": "stream",
     "text": [
      "[1, 1, 1, 1]\n",
      " \n",
      "[1, 1, 2]\n",
      " \n",
      "[1, 3]\n",
      " \n",
      "[2, 2]\n",
      " \n",
      "[4]\n",
      " \n"
     ]
    }
   ],
   "source": [
    "def findComb(index,a,n,rn):\n",
    "    #print(index,a,n,rn)\n",
    "    if(rn<0):\n",
    "        return -1\n",
    "    \n",
    "    if(rn==0):\n",
    "        print(a[:index])\n",
    "        print(\" \")\n",
    "        return\n",
    "    if index==0:\n",
    "        prev= 1\n",
    "    else:\n",
    "        prev=a[index-1]\n",
    "    for i in range(prev,n+1):\n",
    "        a[index]=i\n",
    "        #print(prev)\n",
    "        o=findComb(index+1,a,n,rn-i)\n",
    "        if(o==-1):\n",
    "            break\n",
    "n=4\n",
    "a=[0]*n\n",
    "findComb(0,a,n,n)"
   ]
  },
  {
   "cell_type": "code",
   "execution_count": 60,
   "metadata": {},
   "outputs": [
    {
     "name": "stdout",
     "output_type": "stream",
     "text": [
      "[1, 1, 1, 1, 1]\n",
      " \n",
      "[1, 1, 1, 2]\n",
      " \n",
      "[1, 1, 3]\n",
      " \n",
      "[1, 2, 2]\n",
      " \n",
      "[2, 3]\n",
      " \n"
     ]
    }
   ],
   "source": [
    "def findComb(index,a,n,rn,old,m):\n",
    "    if(rn<0):\n",
    "        return -1\n",
    "    if(rn==0):\n",
    "        print(a[:index])\n",
    "        print(\" \")\n",
    "        return\n",
    "    if index==0:\n",
    "        prev= 0\n",
    "    else:\n",
    "        prev=old\n",
    "           \n",
    "    c=prev\n",
    "    for i in range(prev,len(m)):\n",
    "        #print(i)\n",
    "        a[index]=m[i]\n",
    "        #print(i,prev)\n",
    "        o= findComb(index+1,a,n,rn-m[i],i,m)\n",
    "        if(o==-1):\n",
    "            break\n",
    "n=5\n",
    "\n",
    "a=[0]*n\n",
    "m=[1,2,3,9]\n",
    "m.sort()\n",
    "findComb(0,a,n,n,0,m)"
   ]
  },
  {
   "cell_type": "code",
   "execution_count": 218,
   "metadata": {},
   "outputs": [
    {
     "name": "stdout",
     "output_type": "stream",
     "text": [
      "0 [0, 0, 0, 0] 8 8\n",
      "1 [2, 0, 0, 0] 8 6\n",
      "2 [2, 2, 0, 0] 8 4\n",
      "3 [2, 2, 2, 0] 8 2\n",
      "4 [2, 2, 2, 2] 8 0\n",
      "[2, 2, 2, 2]\n",
      " \n",
      "4 [2, 2, 2, 4] 8 -2\n",
      "4 [2, 2, 2, 6] 8 -4\n",
      "4 [2, 2, 2, 8] 8 -6\n",
      "3 [2, 2, 4, 8] 8 0\n",
      "[2, 2, 4]\n",
      " \n",
      "3 [2, 2, 6, 8] 8 -2\n",
      "3 [2, 2, 8, 8] 8 -4\n",
      "2 [2, 4, 8, 8] 8 2\n",
      "3 [2, 4, 2, 8] 8 0\n",
      "[2, 4, 2]\n",
      " \n",
      "3 [2, 4, 4, 8] 8 -2\n",
      "3 [2, 4, 6, 8] 8 -4\n",
      "3 [2, 4, 8, 8] 8 -6\n",
      "2 [2, 6, 8, 8] 8 0\n",
      "[2, 6]\n",
      " \n",
      "2 [2, 8, 8, 8] 8 -2\n",
      "1 [4, 8, 8, 8] 8 4\n",
      "2 [4, 2, 8, 8] 8 2\n",
      "3 [4, 2, 2, 8] 8 0\n",
      "[4, 2, 2]\n",
      " \n",
      "3 [4, 2, 4, 8] 8 -2\n",
      "3 [4, 2, 6, 8] 8 -4\n",
      "3 [4, 2, 8, 8] 8 -6\n",
      "2 [4, 4, 8, 8] 8 0\n",
      "[4, 4]\n",
      " \n",
      "2 [4, 6, 8, 8] 8 -2\n",
      "2 [4, 8, 8, 8] 8 -4\n",
      "1 [6, 8, 8, 8] 8 2\n",
      "2 [6, 2, 8, 8] 8 0\n",
      "[6, 2]\n",
      " \n",
      "2 [6, 4, 8, 8] 8 -2\n",
      "2 [6, 6, 8, 8] 8 -4\n",
      "2 [6, 8, 8, 8] 8 -6\n",
      "1 [8, 8, 8, 8] 8 0\n",
      "[8]\n",
      " \n"
     ]
    }
   ],
   "source": [
    "def findComb(index,a,n,rn):\n",
    "    print(index,a,n,rn)\n",
    "    if(rn<0):\n",
    "        return 0\n",
    "    \n",
    "    if(rn==0):\n",
    "        print(a[:index])\n",
    "        print(\" \")\n",
    "        return 0\n",
    "   \n",
    "    m=[2,4,6,8]\n",
    "\n",
    "    for i in m:\n",
    "        #print(i)\n",
    "        a[index]=i\n",
    "        #print(i,prev)\n",
    "        findComb(index+1,a,n,rn-i)\n",
    "        \n",
    "n=8\n",
    "a=[0]*4\n",
    "findComb(0,a,n,n)"
   ]
  },
  {
   "cell_type": "code",
   "execution_count": 29,
   "metadata": {},
   "outputs": [
    {
     "data": {
      "text/plain": [
       "[[0, 0, 0, 0, 0, 0, 0],\n",
       " [0, 1, 1, 1, 1, 1, 1],\n",
       " [0, 1, 1, 2, 2, 2, 2],\n",
       " [0, 1, 1, 2, 3, 3, 3],\n",
       " [0, 1, 1, 2, 3, 3, 4],\n",
       " [0, 1, 1, 2, 3, 4, 4],\n",
       " [0, 1, 1, 2, 3, 4, 5]]"
      ]
     },
     "execution_count": 29,
     "metadata": {},
     "output_type": "execute_result"
    }
   ],
   "source": [
    "def findLCS(x,y,dp):\n",
    "    for i in range(1,len(x)+1):\n",
    "        for j in range(1,len(y)+1):\n",
    "            if(x[i-1]==y[j-1]):\n",
    "                dp[i][j]=dp[i-1][j-1]+1\n",
    "            else:\n",
    "                dp[i][j]=max(dp[i][j-1],dp[i-1][j])\n",
    "    return dp\n",
    "\n",
    "\n",
    "X = \"AGGRFR\"\n",
    "Y = \"ABGGFR\"\n",
    "dp=[[0 for x in range(len(Y)+1)] for y in range(len(X)+1)] \n",
    "dp=findLCS(X,Y,dp)\n",
    "dp"
   ]
  },
  {
   "cell_type": "code",
   "execution_count": 34,
   "metadata": {},
   "outputs": [
    {
     "data": {
      "text/plain": [
       "5"
      ]
     },
     "execution_count": 34,
     "metadata": {},
     "output_type": "execute_result"
    }
   ],
   "source": [
    "def findLIS(a):\n",
    "    l=[1]*len(a)\n",
    "    for i in range(len(a)):\n",
    "        for j in range(0,i):\n",
    "            if a[i]>a[j]:\n",
    "                l[i]=max(l[i],l[j]+1)\n",
    "    return max(l)\n",
    "a=[10, 22, 9, 33, 21, 50, 41, 60]\n",
    "findLIS(a)\n",
    "            "
   ]
  },
  {
   "cell_type": "code",
   "execution_count": 56,
   "metadata": {},
   "outputs": [
    {
     "name": "stdout",
     "output_type": "stream",
     "text": [
      "2 0 1\n",
      "21 0 0\n",
      "21 0 0\n",
      "3 0 1\n",
      "3 21 2\n",
      "6 0 21\n",
      "8 0 0\n",
      "8 0 21\n",
      "8 21 21\n"
     ]
    },
    {
     "data": {
      "text/plain": [
       "[[0, 0, 0, 0], [0, 0, 21, 21], [0, 0, 21, 21], [0, 8, 21, 29]]"
      ]
     },
     "execution_count": 56,
     "metadata": {},
     "output_type": "execute_result"
    }
   ],
   "source": [
    "def knapSack(W, wt, val, n): \n",
    "    K = [[0 for x in range(W+1)] for x in range(n+1)] \n",
    "  \n",
    "    # Build table K[][] in bottom up manner \n",
    "    for i in range(n+1): \n",
    "        for w in range(W+1): \n",
    "            if i==0 or w==0: \n",
    "                K[i][w] = 0\n",
    "            elif wt[i-1] <= w: \n",
    "                print(val[i-1] , K[i-1][w-wt[i-1]],  K[i-1][w])\n",
    "                K[i][w] = max(val[i-1] + K[i-1][w-wt[i-1]],  K[i-1][w]) \n",
    "            else: \n",
    "                print(wt[i-1],K[i-1][w],w )\n",
    "                K[i][w] = K[i-1][w] \n",
    "  \n",
    "    return K\n",
    "  \n",
    "# Driver program to test above function \n",
    "val = [21,6,8] \n",
    "wt = [2,3,1] \n",
    "W = 3\n",
    "n = len(val) \n",
    "k=knapSack(W, wt, val, n)\n",
    "k"
   ]
  },
  {
   "cell_type": "code",
   "execution_count": 8,
   "metadata": {},
   "outputs": [],
   "source": [
    "k=[[2,5],[3,8],[1,4],[9,11],[7,10],[1,5]]\n",
    "v=[0]*13\n",
    "for i in k:\n",
    "    v[i[0]]+=1\n",
    "    v[i[1]+1]-=1\n",
    "for i in range(1,len(v)):\n",
    "    v[i]=v[i]+v[i-1]"
   ]
  },
  {
   "cell_type": "code",
   "execution_count": 63,
   "metadata": {},
   "outputs": [
    {
     "name": "stdout",
     "output_type": "stream",
     "text": [
      "CAT"
     ]
    }
   ],
   "source": [
    "c=[]\n",
    "for i in range(ord('A'),ord('Z')+1):\n",
    "    c.append(chr(i))\n",
    "di={}\n",
    "l=0\n",
    "for i in range(1,9):\n",
    "    if(i==6 or i==8):\n",
    "        di[i+1]=c[l:l+4]\n",
    "        l=l+4\n",
    "    else:\n",
    "        di[i+1]=c[l:l+3]\n",
    "        l=l+3\n",
    "msg=\"222*2*8\"\n",
    "c=0\n",
    "def findnum(l,c):\n",
    "    if l=='7' or l=='9':\n",
    "        return di[int(l)][c%4-1]\n",
    "    else:\n",
    "        return di[int(l)][c%3-1]\n",
    "for i in range(len(msg)):\n",
    "    if msg[i]=='*' or i==len(msg)-1:\n",
    "        if i==len(msg)-1:\n",
    "            #print(msg[i])\n",
    "            print(findnum(msg[i],c+1),end=\"\")\n",
    "        else:\n",
    "            print(findnum(msg[i-1],c),end=\"\")   \n",
    "        c=0\n",
    "    else:\n",
    "        c+=1\n"
   ]
  },
  {
   "cell_type": "code",
   "execution_count": 46,
   "metadata": {},
   "outputs": [
    {
     "name": "stdout",
     "output_type": "stream",
     "text": [
      "* * * * * * * * * \n",
      "  * * * * * * * \n",
      "    * * * * * \n",
      "      * * * \n",
      "        * \n"
     ]
    }
   ],
   "source": [
    "n=5\n",
    "\n",
    "for i in range(n,0,-1):\n",
    "    k=0\n",
    "    for m in range(1,n-i+1):\n",
    "        \n",
    "        print(\"  \",end='')\n",
    "    while(k!=2*i-1):\n",
    "        print('* ',end='')\n",
    "        k+=1\n",
    "    print()"
   ]
  },
  {
   "cell_type": "code",
   "execution_count": null,
   "metadata": {},
   "outputs": [],
   "source": []
  }
 ],
 "metadata": {
  "kernelspec": {
   "display_name": "Python 3",
   "language": "python",
   "name": "python3"
  },
  "language_info": {
   "codemirror_mode": {
    "name": "ipython",
    "version": 3
   },
   "file_extension": ".py",
   "mimetype": "text/x-python",
   "name": "python",
   "nbconvert_exporter": "python",
   "pygments_lexer": "ipython3",
   "version": "3.6.8"
  }
 },
 "nbformat": 4,
 "nbformat_minor": 2
}
