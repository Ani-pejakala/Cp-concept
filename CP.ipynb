{
 "cells": [
  {
   "cell_type": "code",
   "execution_count": 17,
   "metadata": {},
   "outputs": [
    {
     "name": "stdout",
     "output_type": "stream",
     "text": [
      "1\n",
      "3\n",
      "0\n",
      "4\n",
      "1\n",
      "7\n",
      "2\n",
      "1\n",
      "5\n",
      "0\n",
      "6\n",
      "3\n",
      "7\n",
      "2\n",
      "4\n",
      "4\n",
      "1\n",
      "7\n",
      "5\n",
      "3\n",
      "6\n",
      "Max subarray XOR is  7\n"
     ]
    }
   ],
   "source": [
    "\n",
    "def maxSubarrayXOR(arr,n): \n",
    "  \n",
    "    ans = -2147483648     #Initialize result \n",
    "   \n",
    "    # Pick starting points of subarrays \n",
    "    for i in range(n): \n",
    "          \n",
    "        # to store xor of current subarray \n",
    "        curr_xor = 0 \n",
    "   \n",
    "        # Pick ending points of \n",
    "        # subarrays starting with i \n",
    "        for j in range(i,n): \n",
    "        \n",
    "            curr_xor = curr_xor ^ arr[j] \n",
    "            print(curr_xor)\n",
    "            ans = max(ans, curr_xor) \n",
    "          \n",
    "      \n",
    "    return ans \n",
    "  \n",
    "  \n",
    "# Driver code \n",
    "  \n",
    "arr = [1,2,3,4,5,6] \n",
    "n = len(arr) \n",
    "  \n",
    "print(\"Max subarray XOR is \", \n",
    "     maxSubarrayXOR(arr, n)) \n",
    "  \n",
    "# This code is contributed \n",
    "# by Anant"
   ]
  },
  {
   "cell_type": "code",
   "execution_count": 24,
   "metadata": {},
   "outputs": [
    {
     "name": "stdout",
     "output_type": "stream",
     "text": [
      "4\n"
     ]
    }
   ],
   "source": [
    "# Function to preprocess the array and \n",
    "# find count of number of ones upto \n",
    "# jth index for ith bit. \n",
    "def preprocess(arr, n, cnt): \n",
    "\n",
    "\t# Run a loop for each bit position \n",
    "\t# from 0 to 32. \n",
    "\tfor i in range(32): \n",
    "\t\tcnt[i][0] = 0\n",
    "\t\tfor j in range(n): \n",
    "\t\t\tif (j > 0): \n",
    "\n",
    "\t\t\t\t# store previous count of 1s \n",
    "\t\t\t\t# for ith bit position. \n",
    "\t\t\t\tcnt[i][j] = cnt[i][j - 1] \n",
    "\n",
    "\t\t\t# Check if ith bit for jth element \n",
    "\t\t\t# of array is set or not. If it is \n",
    "\t\t\t# set then increase count of 1 for \n",
    "\t\t\t# ith bit by 1. \n",
    "\t\t\tif (arr[j] & (1 << i)): \n",
    "\t\t\t\tcnt[i][j] += 1\n",
    "\n",
    "# Function to find XOR value \n",
    "# for a range of array elements. \n",
    "def findXOR(L, R, cnt): \n",
    "\n",
    "\t# variable to store final answer. \n",
    "\tans = 0\n",
    "\n",
    "\t# variable to store number of 1s \n",
    "\t# for ith bit in the range L to R. \n",
    "\tnoOfOnes = 0\n",
    "\n",
    "\t# Find number of 1s for each \n",
    "\t# bit position from 0 to 32. \n",
    "\tfor i in range(32): \n",
    "\t\tif L > 0: \n",
    "\t\t\tnoOfOnes = cnt[i][R] - cnt[i][L - 1] \n",
    "\t\telse: \n",
    "\t\t\tnoOfOnes = cnt[i][R] \n",
    "\n",
    "\t\t# If number of 1s are odd then in the result \n",
    "\t\t# ith bit will be set, i.e., 2^i will be \n",
    "\t\t# present in the result. Add 2^i in ans variable. \n",
    "\t\tif (noOfOnes & 1): \n",
    "\t\t\tans += (1 << i) \n",
    "\n",
    "\treturn ans \n",
    "\n",
    "# Driver Code \n",
    "arr = [1,2,3,4,5,6] \n",
    "\n",
    "n = len(arr) \n",
    "\n",
    "cnt = [[0 for i in range(n)] \n",
    "\t\tfor i in range(32)] \n",
    "\n",
    "preprocess(arr, n, cnt) \n",
    "\n",
    "L = 2\n",
    "R = 5\n",
    "print(findXOR(L, R, cnt)) \n",
    "\n",
    "# This code is contributed by Mohit Kumar \n"
   ]
  },
  {
   "cell_type": "code",
   "execution_count": 49,
   "metadata": {},
   "outputs": [
    {
     "ename": "ImportError",
     "evalue": "cannot import name 'multiset'",
     "output_type": "error",
     "traceback": [
      "\u001b[1;31m---------------------------------------------------------------------------\u001b[0m",
      "\u001b[1;31mImportError\u001b[0m                               Traceback (most recent call last)",
      "\u001b[1;32m<ipython-input-49-9eed164cb267>\u001b[0m in \u001b[0;36m<module>\u001b[1;34m()\u001b[0m\n\u001b[0;32m      2\u001b[0m \u001b[0mp\u001b[0m\u001b[1;33m=\u001b[0m\u001b[1;36m1\u001b[0m\u001b[1;33m\u001b[0m\u001b[1;33m\u001b[0m\u001b[0m\n\u001b[0;32m      3\u001b[0m \u001b[1;32mglobal\u001b[0m \u001b[0mamin\u001b[0m\u001b[1;33m\u001b[0m\u001b[1;33m\u001b[0m\u001b[0m\n\u001b[1;32m----> 4\u001b[1;33m \u001b[1;32mfrom\u001b[0m \u001b[0mcollections\u001b[0m \u001b[1;32mimport\u001b[0m \u001b[0mmultiset\u001b[0m\u001b[1;33m\u001b[0m\u001b[1;33m\u001b[0m\u001b[0m\n\u001b[0m\u001b[0;32m      5\u001b[0m \u001b[0msmin\u001b[0m\u001b[1;33m=\u001b[0m\u001b[0mset\u001b[0m\u001b[1;33m(\u001b[0m\u001b[1;33m)\u001b[0m\u001b[1;33m\u001b[0m\u001b[1;33m\u001b[0m\u001b[0m\n\u001b[0;32m      6\u001b[0m \u001b[0msmax\u001b[0m\u001b[1;33m=\u001b[0m\u001b[0mset\u001b[0m\u001b[1;33m(\u001b[0m\u001b[1;33m)\u001b[0m\u001b[1;33m\u001b[0m\u001b[1;33m\u001b[0m\u001b[0m\n",
      "\u001b[1;31mImportError\u001b[0m: cannot import name 'multiset'"
     ]
    }
   ],
   "source": [
    "m=2 \n",
    "p=1\n",
    "global amin\n",
    "from collections import multiset\n",
    "smin=set()\n",
    "smax=set()\n",
    "def insertMin(num):\n",
    "    if(len(smin)<m):\n",
    "        smin.add(num)\n",
    "        amin^=num\n",
    "        \n",
    "    "
   ]
  },
  {
   "cell_type": "code",
   "execution_count": 48,
   "metadata": {},
   "outputs": [],
   "source": [
    "smin.add(5)"
   ]
  },
  {
   "cell_type": "code",
   "execution_count": 46,
   "metadata": {},
   "outputs": [
    {
     "ename": "NameError",
     "evalue": "name 'Multiset' is not defined",
     "output_type": "error",
     "traceback": [
      "\u001b[1;31m---------------------------------------------------------------------------\u001b[0m",
      "\u001b[1;31mNameError\u001b[0m                                 Traceback (most recent call last)",
      "\u001b[1;32m<ipython-input-46-5e8ab3b201cf>\u001b[0m in \u001b[0;36m<module>\u001b[1;34m()\u001b[0m\n\u001b[1;32m----> 1\u001b[1;33m \u001b[0mMultiset\u001b[0m\u001b[1;33m(\u001b[0m\u001b[1;36m4\u001b[0m\u001b[1;33m)\u001b[0m\u001b[1;33m\u001b[0m\u001b[1;33m\u001b[0m\u001b[0m\n\u001b[0m",
      "\u001b[1;31mNameError\u001b[0m: name 'Multiset' is not defined"
     ]
    }
   ],
   "source": [
    "Multiset(4)"
   ]
  },
  {
   "cell_type": "code",
   "execution_count": 54,
   "metadata": {},
   "outputs": [
    {
     "ename": "TypeError",
     "evalue": "'int' object is not iterable",
     "output_type": "error",
     "traceback": [
      "\u001b[1;31m---------------------------------------------------------------------------\u001b[0m",
      "\u001b[1;31mTypeError\u001b[0m                                 Traceback (most recent call last)",
      "\u001b[1;32m<ipython-input-54-43566a7375bc>\u001b[0m in \u001b[0;36m<module>\u001b[1;34m()\u001b[0m\n\u001b[1;32m----> 1\u001b[1;33m \u001b[0ma\u001b[0m\u001b[1;33m=\u001b[0m\u001b[0mCounter\u001b[0m\u001b[1;33m(\u001b[0m\u001b[1;36m4\u001b[0m\u001b[1;33m)\u001b[0m\u001b[1;33m\u001b[0m\u001b[1;33m\u001b[0m\u001b[0m\n\u001b[0m",
      "\u001b[1;32mC:\\Users\\anir\\Anaconda3\\lib\\collections\\__init__.py\u001b[0m in \u001b[0;36m__init__\u001b[1;34m(*args, **kwds)\u001b[0m\n\u001b[0;32m    533\u001b[0m             \u001b[1;32mraise\u001b[0m \u001b[0mTypeError\u001b[0m\u001b[1;33m(\u001b[0m\u001b[1;34m'expected at most 1 arguments, got %d'\u001b[0m \u001b[1;33m%\u001b[0m \u001b[0mlen\u001b[0m\u001b[1;33m(\u001b[0m\u001b[0margs\u001b[0m\u001b[1;33m)\u001b[0m\u001b[1;33m)\u001b[0m\u001b[1;33m\u001b[0m\u001b[1;33m\u001b[0m\u001b[0m\n\u001b[0;32m    534\u001b[0m         \u001b[0msuper\u001b[0m\u001b[1;33m(\u001b[0m\u001b[0mCounter\u001b[0m\u001b[1;33m,\u001b[0m \u001b[0mself\u001b[0m\u001b[1;33m)\u001b[0m\u001b[1;33m.\u001b[0m\u001b[0m__init__\u001b[0m\u001b[1;33m(\u001b[0m\u001b[1;33m)\u001b[0m\u001b[1;33m\u001b[0m\u001b[1;33m\u001b[0m\u001b[0m\n\u001b[1;32m--> 535\u001b[1;33m         \u001b[0mself\u001b[0m\u001b[1;33m.\u001b[0m\u001b[0mupdate\u001b[0m\u001b[1;33m(\u001b[0m\u001b[1;33m*\u001b[0m\u001b[0margs\u001b[0m\u001b[1;33m,\u001b[0m \u001b[1;33m**\u001b[0m\u001b[0mkwds\u001b[0m\u001b[1;33m)\u001b[0m\u001b[1;33m\u001b[0m\u001b[1;33m\u001b[0m\u001b[0m\n\u001b[0m\u001b[0;32m    536\u001b[0m \u001b[1;33m\u001b[0m\u001b[0m\n\u001b[0;32m    537\u001b[0m     \u001b[1;32mdef\u001b[0m \u001b[0m__missing__\u001b[0m\u001b[1;33m(\u001b[0m\u001b[0mself\u001b[0m\u001b[1;33m,\u001b[0m \u001b[0mkey\u001b[0m\u001b[1;33m)\u001b[0m\u001b[1;33m:\u001b[0m\u001b[1;33m\u001b[0m\u001b[1;33m\u001b[0m\u001b[0m\n",
      "\u001b[1;32mC:\\Users\\anir\\Anaconda3\\lib\\collections\\__init__.py\u001b[0m in \u001b[0;36mupdate\u001b[1;34m(*args, **kwds)\u001b[0m\n\u001b[0;32m    620\u001b[0m                     \u001b[0msuper\u001b[0m\u001b[1;33m(\u001b[0m\u001b[0mCounter\u001b[0m\u001b[1;33m,\u001b[0m \u001b[0mself\u001b[0m\u001b[1;33m)\u001b[0m\u001b[1;33m.\u001b[0m\u001b[0mupdate\u001b[0m\u001b[1;33m(\u001b[0m\u001b[0miterable\u001b[0m\u001b[1;33m)\u001b[0m \u001b[1;31m# fast path when counter is empty\u001b[0m\u001b[1;33m\u001b[0m\u001b[1;33m\u001b[0m\u001b[0m\n\u001b[0;32m    621\u001b[0m             \u001b[1;32melse\u001b[0m\u001b[1;33m:\u001b[0m\u001b[1;33m\u001b[0m\u001b[1;33m\u001b[0m\u001b[0m\n\u001b[1;32m--> 622\u001b[1;33m                 \u001b[0m_count_elements\u001b[0m\u001b[1;33m(\u001b[0m\u001b[0mself\u001b[0m\u001b[1;33m,\u001b[0m \u001b[0miterable\u001b[0m\u001b[1;33m)\u001b[0m\u001b[1;33m\u001b[0m\u001b[1;33m\u001b[0m\u001b[0m\n\u001b[0m\u001b[0;32m    623\u001b[0m         \u001b[1;32mif\u001b[0m \u001b[0mkwds\u001b[0m\u001b[1;33m:\u001b[0m\u001b[1;33m\u001b[0m\u001b[1;33m\u001b[0m\u001b[0m\n\u001b[0;32m    624\u001b[0m             \u001b[0mself\u001b[0m\u001b[1;33m.\u001b[0m\u001b[0mupdate\u001b[0m\u001b[1;33m(\u001b[0m\u001b[0mkwds\u001b[0m\u001b[1;33m)\u001b[0m\u001b[1;33m\u001b[0m\u001b[1;33m\u001b[0m\u001b[0m\n",
      "\u001b[1;31mTypeError\u001b[0m: 'int' object is not iterable"
     ]
    }
   ],
   "source": [
    "a=Counter('\n",
    "          ')"
   ]
  },
  {
   "cell_type": "code",
   "execution_count": 38,
   "metadata": {},
   "outputs": [],
   "source": [
    "a = [1,2,3,4,5] "
   ]
  },
  {
   "cell_type": "code",
   "execution_count": 15,
   "metadata": {},
   "outputs": [],
   "source": [
    "lxor=0\n",
    "rxor=0\n",
    "ans=-9999\n",
    "lenj=-9999\n",
    "m=3\n",
    "p=2\n",
    "n=len(a)"
   ]
  },
  {
   "cell_type": "code",
   "execution_count": 16,
   "metadata": {},
   "outputs": [],
   "source": [
    "import heapq"
   ]
  },
  {
   "cell_type": "code",
   "execution_count": 47,
   "metadata": {},
   "outputs": [
    {
     "name": "stdout",
     "output_type": "stream",
     "text": [
      "[1]\n",
      "[2, 1]\n",
      "[1, 2] 3\n",
      "[1, 2] 4\n",
      "[1, 2] 5\n",
      "[2]\n",
      "[3, 2]\n",
      "[2, 3] 4\n",
      "[2, 3] 5\n",
      "[3]\n",
      "[4, 3]\n",
      "[3, 4] 5\n",
      "[4]\n",
      "[5, 4]\n",
      "[5]\n",
      "3 4 7\n"
     ]
    }
   ],
   "source": [
    "for i in range(0,len(a)):\n",
    "    lxor=0\n",
    "    rxor=0\n",
    "    pqmax=[]\n",
    "    pqmin=[]\n",
    "    for j in range(i,len(a)):\n",
    "        #print(a)\n",
    "        if len(pqmin)==m:\n",
    "            print(pqmin,a[j])\n",
    "            if pqmin[0]>a[j]:\n",
    "                #print(pqmin)\n",
    "                lxor=lxor^a[j]^pqmin[0]\n",
    "                heapq.heappop(pqmin)\n",
    "                heapq.heappush(pqmin,a[j])\n",
    "                #print(pqmin)\n",
    "        else:\n",
    "            heapq.heappush(pqmin,a[j])\n",
    "            #print(pqmin)\n",
    "            lxor=lxor^a[j]\n",
    "            #print(lxor)\n",
    "        if len(pqmax)==p:\n",
    "            if pqmax[0]<a[j]:\n",
    "                rxor=rxor^a[j]^pqmax[0]\n",
    "                heapq._heappop_max(pqmax)\n",
    "                pqmax.append(a[j])\n",
    "                heapq._heapify_max(pqmax)\n",
    "        else:\n",
    "            pqmax.append(a[j])\n",
    "            heapq._heapify_max(pqmax)\n",
    "            print(pqmax)\n",
    "            rxor=rxor^a[j]\n",
    "        #print(len(pqmin)==m ,len(pqmax)==p)\n",
    "        if len(pqmin)==m and len(pqmax)==p:\n",
    "           # print(pqmin,pqmax)\n",
    "            if ans<lxor&rxor:\n",
    "                ans=lxor&rxor\n",
    "                le=j-i+1\n",
    "                l=i\n",
    "                r=j\n",
    "            elif ans==(lxor&rxor) and le<j-i+1:\n",
    "                ans=lxor&rxor\n",
    "                le=j-i+1\n",
    "                l=i\n",
    "                r=j\n",
    "            \n",
    "print(l+1,r+1,ans)       \n",
    "    "
   ]
  },
  {
   "cell_type": "code",
   "execution_count": 34,
   "metadata": {},
   "outputs": [
    {
     "data": {
      "text/plain": [
       "[8, 4, 3]"
      ]
     },
     "execution_count": 34,
     "metadata": {},
     "output_type": "execute_result"
    }
   ],
   "source": [
    "heapq.nlargest(3,a)"
   ]
  },
  {
   "cell_type": "code",
   "execution_count": 32,
   "metadata": {},
   "outputs": [
    {
     "data": {
      "text/plain": [
       "[8, 4, 3, 1, 2, 3]"
      ]
     },
     "execution_count": 32,
     "metadata": {},
     "output_type": "execute_result"
    }
   ],
   "source": [
    "a"
   ]
  },
  {
   "cell_type": "code",
   "execution_count": 21,
   "metadata": {},
   "outputs": [],
   "source": [
    "i-=1"
   ]
  },
  {
   "cell_type": "code",
   "execution_count": 50,
   "metadata": {},
   "outputs": [
    {
     "data": {
      "text/plain": [
       "8"
      ]
     },
     "execution_count": 50,
     "metadata": {},
     "output_type": "execute_result"
    }
   ],
   "source": [
    "13^5"
   ]
  },
  {
   "cell_type": "code",
   "execution_count": 39,
   "metadata": {},
   "outputs": [
    {
     "name": "stdout",
     "output_type": "stream",
     "text": [
      "[5, 4]\n",
      "[5, 4]\n",
      "[5, 4]\n",
      "[5, 4]\n",
      "[5]\n",
      "3 4 7\n"
     ]
    }
   ],
   "source": [
    "for i in range(0,len(a)):\n",
    "    lxor=0\n",
    "    rxor=0\n",
    "    pqmax=[]\n",
    "    pqmin=[]\n",
    "    j=a[i:]\n",
    "    print(heapq.nlargest(m,j))\n",
    "    \n",
    "            \n",
    "print(l+1,r+1,ans)       \n",
    "    "
   ]
  },
  {
   "cell_type": "code",
   "execution_count": 43,
   "metadata": {},
   "outputs": [],
   "source": [
    "def getP(val,n,x):\n",
    "    c = 0\n",
    "    x1 = x-n\n",
    "    x2 = x+n\n",
    "    if x1>val[0] and x1>val[2]:\n",
    "        c+=1\n",
    "    if x1>val[0] and x1>val[3]:\n",
    "        c+=1\n",
    "    if x1>val[1] and x1>val[2]:\n",
    "        c+=1\n",
    "    if x1>val[1] and x1>val[3]:\n",
    "        c+=1\n",
    "    if x2>val[0] and x2>val[2]:\n",
    "        c+=1\n",
    "    if x2>val[0] and x2>val[3]:\n",
    "        c+=1\n",
    "    if x2>val[1] and x2>val[2]:\n",
    "        c+=1\n",
    "    if x2>val[1] and x2>val[3]:\n",
    "        c+=1\n",
    "    return c\n",
    " \n",
    "def test():\n",
    "    x,y,z =(22,44,200)\n",
    "    a,b = (25,0)\n",
    "    val = [y+a,y-a,z+b,z-b]\n",
    "    print(val)\n",
    "    diff = [abs(x-i)+1 for i in val if abs(x-i)+1<=x]\n",
    "    diff.append(0)\n",
    "    print(diff)\n",
    "    res = []\n",
    "    for i in diff:\n",
    "        print(getP(val,i,x))\n",
    "        res.append((8-getP(val,i,x),i))\n",
    "        print(res)\n",
    "    res.sort()\n",
    "    print(res)\n",
    "    print(res[0][1])"
   ]
  },
  {
   "cell_type": "code",
   "execution_count": 44,
   "metadata": {},
   "outputs": [
    {
     "name": "stdout",
     "output_type": "stream",
     "text": [
      "[69, 19, 200, 200]\n",
      "[4, 0]\n",
      "0\n",
      "[(8, 4)]\n",
      "0\n",
      "[(8, 4), (8, 0)]\n",
      "[(8, 0), (8, 4)]\n",
      "0\n"
     ]
    }
   ],
   "source": [
    "test()"
   ]
  },
  {
   "cell_type": "code",
   "execution_count": 9,
   "metadata": {},
   "outputs": [
    {
     "data": {
      "text/plain": [
       "True"
      ]
     },
     "execution_count": 9,
     "metadata": {},
     "output_type": "execute_result"
    }
   ],
   "source": [
    "not None"
   ]
  },
  {
   "cell_type": "code",
   "execution_count": 8,
   "metadata": {},
   "outputs": [
    {
     "name": "stdout",
     "output_type": "stream",
     "text": [
      "a\n"
     ]
    }
   ],
   "source": [
    "if(not None):\n",
    "    print(\"a\")"
   ]
  },
  {
   "cell_type": "code",
   "execution_count": 16,
   "metadata": {
    "scrolled": true
   },
   "outputs": [
    {
     "name": "stdout",
     "output_type": "stream",
     "text": [
      "1\n",
      "9\n",
      "9\n",
      "0\n",
      "0\n",
      "1\n"
     ]
    }
   ],
   "source": [
    "class Node: \n",
    "\n",
    "\t# Constructor to initialize the node object \n",
    "\tdef __init__(self, data): \n",
    "\t\tself.data = data \n",
    "\t\tself.next = None\n",
    "\n",
    "class LinkedList: \n",
    "\n",
    "\t# Function to initialize head \n",
    "\tdef __init__(self): \n",
    "\t\tself.head = None\n",
    "\n",
    "\t# Function to insert a new node at the beginning \n",
    "\tdef push(self, new_data): \n",
    "\t\tnew_node = Node(new_data) \n",
    "\t\tnew_node.next = self.head \n",
    "\t\tself.head = new_node \n",
    "\n",
    "\t# Add contents of two linked lists and return the head \n",
    "\t# node of resultant list \n",
    "\tdef addTwoLists(self, first, second): \n",
    "\t\tprev = None\n",
    "\t\ttemp = None\n",
    "\t\tcarry = 0\n",
    "\n",
    "\t\t# While both list exists \n",
    "\t\twhile(first is not None or second is not None): \n",
    "\n",
    "\t\t\t# Calculate the value of next digit in \n",
    "\t\t\t# resultant list \n",
    "\t\t\t# The next digit is sum of following things \n",
    "\t\t\t# (i) Carry \n",
    "\t\t\t# (ii) Next digit of first list (if ther is a \n",
    "\t\t\t# next digit) \n",
    "\t\t\t# (iii) Next digit of second list ( if there \n",
    "\t\t\t# is a next digit) \n",
    "\t\t\tfdata = 0 if first is None else first.data \n",
    "\t\t\tsdata = 0 if second is None else second.data \n",
    "\t\t\tSum = carry + fdata + sdata \n",
    "\n",
    "\t\t\t# update carry for next calculation \n",
    "\t\t\tcarry = 1 if Sum >= 10 else 0\n",
    "\n",
    "\t\t\t# update sum if it is greater than 10 \n",
    "\t\t\tSum = Sum if Sum < 10 else Sum % 10\n",
    "\n",
    "\t\t\t# Create a new node with sum as data \n",
    "\t\t\ttemp = Node(Sum) \n",
    "\n",
    "\t\t\t# if this is the first node then set it as head \n",
    "\t\t\t# of resultant list \n",
    "\t\t\tif self.head is None: \n",
    "\t\t\t\tself.head = temp \n",
    "\t\t\telse : \n",
    "\t\t\t\tprev.next = temp \n",
    "\n",
    "\t\t\t# Set prev for next insertion \n",
    "\t\t\tprev = temp \n",
    "\n",
    "\t\t\t# Move first and second pointers to next nodes \n",
    "\t\t\tif first is not None: \n",
    "\t\t\t\tfirst = first.next\n",
    "\t\t\tif second is not None: \n",
    "\t\t\t\tsecond = second.next\n",
    "\n",
    "\t\tif carry > 0: \n",
    "\t\t\ttemp.next = Node(carry) \n",
    "\n",
    "\t# Utility function to print the linked LinkedList \n",
    "\tdef printList(self): \n",
    "\t\ttemp = self.head \n",
    "\t\twhile(temp): \n",
    "\t\t\tprint(temp.data) \n",
    "\t\t\ttemp = temp.next\n",
    "\n",
    "# Driver program to test above function \n",
    "first = LinkedList() \n",
    "second = LinkedList() \n",
    "\n",
    "# Create first list \n",
    "first.push(1) \n",
    "\n",
    "#print \"First List is \", \n",
    "first.printList() \n",
    "\n",
    "# Create second list \n",
    "second.push(9) \n",
    "second.push(9) \n",
    "#print \"\\nSecond List is \", \n",
    "second.printList() \n",
    "\n",
    "# Add the two lists and see result \n",
    "res = LinkedList() \n",
    "res.addTwoLists(first.head, second.head) \n",
    "#print \"\\nResultant list is \", \n",
    "res.printList() \n",
    "\n",
    "# This code is contributed by Nikhil Kumar Singh(nickzuck_007) \n"
   ]
  },
  {
   "cell_type": "code",
   "execution_count": 56,
   "metadata": {},
   "outputs": [],
   "source": [
    "def birthday(s, d, m):\n",
    "    sum_var=0\n",
    "    count=0\n",
    "    prev=0\n",
    "    trigger=False\n",
    "    for i in range(0,len(s)):\n",
    "        sum_var+=s[i]\n",
    "        if trigger:\n",
    "            sum_var-=prev\n",
    "            if sum_var==d:\n",
    "                print(s[m-i+1:i+1],sum(s[i-m-1:i+1]))\n",
    "                count+=1\n",
    "            prev=s[i+1-m]\n",
    "        if i==m-1:\n",
    "            trigger=True\n",
    "            print(s[m-i-1:i+1])\n",
    "            print(s[i-m-1:i+1],sum(s[i-m-1:i+1]))\n",
    "            if sum_var==d:\n",
    "                print(s[i-m-1:i+1],sum(s[i-m-1:i+1]))\n",
    "                count+=1\n",
    "            prev=s[0]\n",
    "        \n",
    "    return count"
   ]
  },
  {
   "cell_type": "code",
   "execution_count": 57,
   "metadata": {},
   "outputs": [],
   "source": [
    "19\n",
    "s=[2, 5, 1, 3, 4, 4, 3, 5, 1, 1, 2, 1, 4, 1, 3, 3, 4, 2, 1]\n",
    "d=18\n",
    "m=7"
   ]
  },
  {
   "cell_type": "code",
   "execution_count": 58,
   "metadata": {},
   "outputs": [
    {
     "name": "stdout",
     "output_type": "stream",
     "text": [
      "[2, 5, 1, 3, 4, 4, 3]\n",
      "[] 0\n",
      "[1, 4, 1, 3, 3, 4] 20\n",
      "[2, 1, 4, 1, 3, 3, 4, 2] 21\n",
      "[1, 2, 1, 4, 1, 3, 3, 4, 2, 1] 21\n"
     ]
    },
    {
     "data": {
      "text/plain": [
       "3"
      ]
     },
     "execution_count": 58,
     "metadata": {},
     "output_type": "execute_result"
    }
   ],
   "source": [
    "birthday(s, d, m)\n"
   ]
  },
  {
   "cell_type": "code",
   "execution_count": null,
   "metadata": {},
   "outputs": [],
   "source": []
  }
 ],
 "metadata": {
  "kernelspec": {
   "display_name": "Python 3",
   "language": "python",
   "name": "python3"
  },
  "language_info": {
   "codemirror_mode": {
    "name": "ipython",
    "version": 3
   },
   "file_extension": ".py",
   "mimetype": "text/x-python",
   "name": "python",
   "nbconvert_exporter": "python",
   "pygments_lexer": "ipython3",
   "version": "3.6.8"
  }
 },
 "nbformat": 4,
 "nbformat_minor": 2
}
